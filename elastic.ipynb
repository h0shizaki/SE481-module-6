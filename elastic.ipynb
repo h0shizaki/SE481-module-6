{
 "cells": [
  {
   "cell_type": "code",
   "execution_count": 18,
   "metadata": {},
   "outputs": [],
   "source": [
    "from elasticsearch import Elasticsearch\n",
    "import os\n",
    "from pathlib import Path\n",
    "import pickle\n",
    "import json"
   ]
  },
  {
   "cell_type": "markdown",
   "metadata": {},
   "source": [
    "## Elastic Search Indexer"
   ]
  },
  {
   "cell_type": "code",
   "execution_count": 19,
   "metadata": {},
   "outputs": [],
   "source": [
    "class ElasticIndexer:\n",
    "    def __init__(self):\n",
    "        self.crawled_folder = Path(os.path.abspath('')).parent / 'crawled/'\n",
    "        print(self.crawled_folder  / 'url_list.pickle')\n",
    "        with open(self.crawled_folder / 'url_list.pickle', 'rb') as f:\n",
    "            self.file_mapper = pickle.load(f) \n",
    "        self.es_client = Elasticsearch('https://localhost:9200', basic_auth=(\"elastic\", \"6E0GWL_MEddnKJWCnk*M\"),\n",
    "                    ca_certs=\"./http_ca.crt\")\n",
    "        # self.es_client.info()\n",
    "\n",
    "    def run_indexer(self):\n",
    "        self.es_client.options(ignore_status=400).indices.create(index='simple')\n",
    "        self.es_client.options(ignore_status=[400,404]).indices.delete(index='simple')\n",
    "        for file in os.listdir(self.crawled_folder):\n",
    "            if file.endswith(\".txt\"):\n",
    "                j = json.load(open(os.path.join(self.crawled_folder, file)))\n",
    "                j['id'] = j['url']\n",
    "                # print(j)\n",
    "                self.es_client.index(index='simple', document=j)\n"
   ]
  },
  {
   "cell_type": "code",
   "execution_count": 21,
   "metadata": {},
   "outputs": [
    {
     "name": "stdout",
     "output_type": "stream",
     "text": [
      "c:\\SoftwareEngineer\\Work\\ir\\crawled\\url_list.pickle\n",
      "Got 155 Hits :\n",
      "The title is ศูนย์ WIL จัดกิจกรรมแนะนำตำแหน่งงานสำหรับสหกิจศึกษา (https://camt.cmu.ac.th/index.php/en/all-news-groups/24-ข่าวทั่วไป/1149-ศูนย์-wil-จัดกิจกรรมแนะนำตำแหน่งงานสำหรับสหกิจศึกษา.html)\n",
      "The title is Sign In with CMU Account (https://oauth.cmu.ac.th/v1/Authorize.aspx?response_type=code&client_id=3pefrhnrAcsu4VSAexA4XW98a3d9cf4tE7a2QD09&redirect_uri=https://service.camt.cmu.ac.th/wilstu/home/callback&scope=cmuitaccount.basicinfo&state=xyx)\n",
      "The title is ข่าวทั่วไป (https://camt.cmu.ac.th/index.php/th/หัวข้อกลุ่มข่าวทั้งหมด/24-ข่าวทั่วไป.html)\n",
      "The title is หน้าหลัก (https://www.camt.cmu.ac.th/)\n",
      "The title is หน้าหลัก (https://camt.cmu.ac.th/index.php/th/)\n",
      "The title is ประกาศ (https://camt.cmu.ac.th/index.php/th/2-uncategorised/324-ประกาศ.html)\n",
      "The title is หน้าหลัก (https://camt.cmu.ac.th/index.php/en/?p=&lang=th)\n",
      "The title is หน้าหลัก (https://www.camt.cmu.ac.th)\n",
      "The title is หน้าหลัก (https://camt.cmu.ac.th/)\n",
      "The title is Home (https://camt.cmu.ac.th/index.php/en/#carousel-example-generic)\n"
     ]
    }
   ],
   "source": [
    "s = ElasticIndexer()\n",
    "s.run_indexer()\n",
    "query = {\"match\": { \"text\": \"WIL\"}} \n",
    "results = s.es_client.search(index='simple', query=query)\n",
    "print(\"Got %d Hits :\" % results['hits']['total']['value'])\n",
    "for hit in results['hits']['hits']:\n",
    "    print(\"The title is {0} ({1})\".format(hit['_source']['title'], hit['_source']['url']))   "
   ]
  },
  {
   "cell_type": "markdown",
   "metadata": {},
   "source": [
    "## Elasticsearch API"
   ]
  },
  {
   "cell_type": "code",
   "execution_count": null,
   "metadata": {},
   "outputs": [],
   "source": [
    "import time\n",
    "from flask import Flask , request\n",
    "import pandas as pd\n",
    "\n",
    "app = Flask(__name__)\n",
    "app.es_client  = Elasticsearch('https://localhost:9200', basic_auth=(\"elastic\", \"6E0GWL_MEddnKJWCnk*M\"),\n",
    "                    ca_certs=\"./http_ca.crt\")\n",
    "\n",
    "@app.route('/search_es', methods=[\"GET\"])\n",
    "def search_es():\n",
    "    start = time.time()\n",
    "    res = {'status': 'success'}\n",
    "    argList = request.args.to_dict(flat=False)\n",
    "    query_term = argList['query'][0]\n",
    "    results = app.es_client.search(index='simple', source_excludes=['url_lists'], size=100, \n",
    "                                   query={\"match\": {\"text\": query_term}})\n",
    "    end = time.time()\n",
    "    total_hit = results['hits']['total']['value']\n",
    "    results_df = pd.DataFrame([[hit[\"_source\"]['title'], hit[\"_source\"]['url'], hit[\"_source\"]\n",
    "['text'][:100], hit[\"_score\"]] for hit in results['hits']['hits']], columns=['title', 'url', 'text', \n",
    "'score'])\n",
    "    \n",
    "    res['total_hit'] = total_hit\n",
    "    res['results'] = results_df.to_dict('records')\n",
    "    res['elapse'] = end-start\n",
    "\n",
    "    return res"
   ]
  },
  {
   "cell_type": "markdown",
   "metadata": {},
   "source": [
    "### Quick exercise"
   ]
  },
  {
   "cell_type": "code",
   "execution_count": null,
   "metadata": {},
   "outputs": [],
   "source": [
    "from ManualIndexer import Indexer, preProcessor\n",
    "\n",
    "app = Flask(__name__)\n",
    "app.es_client  = Elasticsearch('https://localhost:9200', basic_auth=(\"elastic\", \"6E0GWL_MEddnKJWCnk*M\"),\n",
    "                    ca_certs=\"./http_ca.crt\")\n",
    "app.indexer = Indexer()\n",
    "app.indexer.run_indexer()\n",
    "\n",
    "@app.route('/manual_index', methods=[\"GET\"])\n",
    "def manual_index():\n",
    "    \n",
    "    start = time.time()\n",
    "    res = {'status': 'success'}\n",
    "    argList = request.args.to_dict(flat=False)\n",
    "    query_term = argList['query'][0]\n",
    "    results = app.indexer.search(query_term)\n",
    "    end = time.time()\n",
    "    total_hit = len(results)\n",
    "    \n",
    "    res['total_hit'] = total_hit\n",
    "    res['results'] = results.sort_values(\"score\", ascending=False).drop(\"url_lists\", axis=1).head(100).to_dict('records')\n",
    "    res['elapse'] = end-start\n",
    "\n",
    "    return res"
   ]
  },
  {
   "cell_type": "code",
   "execution_count": null,
   "metadata": {},
   "outputs": [],
   "source": [
    "app.run(debug=False)"
   ]
  }
 ],
 "metadata": {
  "kernelspec": {
   "display_name": "base",
   "language": "python",
   "name": "python3"
  },
  "language_info": {
   "codemirror_mode": {
    "name": "ipython",
    "version": 3
   },
   "file_extension": ".py",
   "mimetype": "text/x-python",
   "name": "python",
   "nbconvert_exporter": "python",
   "pygments_lexer": "ipython3",
   "version": "3.11.5"
  }
 },
 "nbformat": 4,
 "nbformat_minor": 2
}
